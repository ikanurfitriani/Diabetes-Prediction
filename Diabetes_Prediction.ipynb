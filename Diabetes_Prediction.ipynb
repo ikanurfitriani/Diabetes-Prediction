{
 "cells": [
  {
   "cell_type": "markdown",
   "metadata": {},
   "source": [
    "# Diabetes Prediction with Machine Learning"
   ]
  },
  {
   "cell_type": "markdown",
   "metadata": {},
   "source": [
    "### Author\n",
    "Ika Nurfitriani"
   ]
  },
  {
   "cell_type": "markdown",
   "metadata": {},
   "source": [
    "# Introduction\n",
    "## Dataset Information\n",
    "This data set has 9 attributes where with this data a model will be created to predict whether a patient has diabetes.\n",
    "\n",
    "## Dataset Source\n",
    "The data set that will be used in this project comes from the kaggle website and can be downloaded at the following link: [Dataset link](https://www.kaggle.com/datasets/akshaydattatraykhare/diabetes-dataset)<br>\n",
    "\n",
    "## Dataset Attributes\n",
    "1. Pregnancies: To express the Number of pregnancies <br>\n",
    "2. Glucose: To express the Glucose level in blood <br>\n",
    "3. BloodPressure: To express the Blood pressure measurement <br>\n",
    "4. SkinThickness: To express the thickness of the skin <br>\n",
    "5. Insulin: To express the Insulin level in blood <br>\n",
    "6. BMI: To express the Body mass index <br>\n",
    "7. DiabetesPedigreeFunction: To express the Diabetes percentage <br>\n",
    "8. Age: To express the age <br>\n",
    "9. Outcome: To express the final result 1 is Yes and 0 is No\n",
    "\n",
    "## Tujuan\n",
    "This project was created for the following purposes:<br>\n",
    "● Study the concepts of various machine learning models. <br>\n",
    "● Implement several models to find models with the best accuracy in predicting diabetes.<br>\n",
    "● Collect and clean data. <br>\n",
    "● Execute data exploration and analysis to prepare it for the machine learning model.<br>\n",
    "● Using the Streamlit framework to build a web interface. <br>\n",
    "● Allows users to enter data and get diabetes predictions through the web interface."
   ]
  },
  {
   "cell_type": "markdown",
   "metadata": {},
   "source": [
    "# A. Import Required Libraries\n",
    "***\n",
    "Di tahap ini, saya mengimpor beberapa library yang dibutuhkan."
   ]
  },
  {
   "cell_type": "code",
   "execution_count": null,
   "metadata": {},
   "outputs": [],
   "source": [
    "import numpy as np\n",
    "import pandas as pd\n",
    "import matplotlib.pyplot as plt\n",
    "%matplotlib inline\n",
    "import seaborn as sns\n",
    "#!pip install chart-studio\n",
    "from chart_studio import plotly\n",
    "import plotly.figure_factory as ff\n",
    "import plotly.graph_objs as go\n",
    "# these two lines are what allow your code to show up in a notebook\n",
    "from plotly.offline import download_plotlyjs, init_notebook_mode, plot, iplot\n",
    "init_notebook_mode()\n",
    "import plotly.express as px\n",
    "\n",
    "from sklearn.preprocessing import LabelEncoder, StandardScaler, MinMaxScaler\n",
    "from scipy.stats import skew\n",
    "from scipy import stats\n",
    "from sklearn.model_selection import train_test_split\n",
    "from sklearn.metrics import accuracy_score\n",
    "from sklearn.metrics import confusion_matrix\n",
    "from sklearn.metrics import classification_report\n",
    "from sklearn.linear_model import LogisticRegression\n",
    "from sklearn.svm import LinearSVC\n",
    "from sklearn.linear_model import LinearRegression\n",
    "from sklearn.model_selection import ShuffleSplit\n",
    "from sklearn.model_selection import cross_val_score\n",
    "from sklearn.neighbors import KNeighborsClassifier\n",
    "from sklearn.svm import SVC\n",
    "from sklearn.tree import DecisionTreeClassifier\n",
    "from sklearn.ensemble import RandomForestClassifier\n",
    "from sklearn.naive_bayes import GaussianNB\n",
    "from sklearn import metrics\n",
    "from sklearn.pipeline import make_pipeline\n",
    "import pickle\n",
    "\n",
    "import warnings\n",
    "warnings.filterwarnings(\"ignore\")"
   ]
  },
  {
   "cell_type": "markdown",
   "metadata": {},
   "source": [
    "# B. Data Loading\n",
    "***\n",
    "Di tahap ini, saya membuat dataframe untuk membaca dataset dan melakukan beberapa pengecekan terhadap dataset."
   ]
  },
  {
   "cell_type": "code",
   "execution_count": null,
   "metadata": {},
   "outputs": [],
   "source": []
  }
 ],
 "metadata": {
  "kernelspec": {
   "display_name": "Python 3 (ipykernel)",
   "language": "python",
   "name": "python3"
  },
  "language_info": {
   "codemirror_mode": {
    "name": "ipython",
    "version": 3
   },
   "file_extension": ".py",
   "mimetype": "text/x-python",
   "name": "python",
   "nbconvert_exporter": "python",
   "pygments_lexer": "ipython3",
   "version": "3.11.5"
  }
 },
 "nbformat": 4,
 "nbformat_minor": 2
}
